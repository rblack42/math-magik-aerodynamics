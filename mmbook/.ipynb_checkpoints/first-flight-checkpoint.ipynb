{
 "cells": [
  {
   "cell_type": "markdown",
   "id": "763088fa",
   "metadata": {},
   "source": [
    "## First light\n",
    "\n",
    "So far, we have explored a bit of math to explain how a model airplane might fly if we toss it into the air. This airplane has not power source, it is a simple glider. We have not figured out anything about real flight yet, our model might just as well be a rock! (Actually some of my early models flew as well as a rock!)\n",
    "\n",
    "We have a few equations that explain how our rock - er - model will move over time:\n",
    "\n",
    "$$\n",
    "V_d = V_0 \\cos(\\alpha)\n",
    "$$\n",
    "\n",
    "$$\n",
    "V_h = V_0 \\sin(\\alpha)\n",
    "$$\n",
    "\n",
    "and\n",
    "\n",
    "$$\n",
    "d = V_d t\n",
    "$$\n",
    "\n",
    "$$\n",
    "h = V_h t\n",
    "$$.\n",
    "\n",
    "We can plot the hight and the distance traveled over some time inteval using a bit of python.\n",
    "\n",
    "First, we meed a bit of setup:"
   ]
  },
  {
   "cell_type": "code",
   "execution_count": 5,
   "id": "eb02f344",
   "metadata": {},
   "outputs": [
    {
     "name": "stdout",
     "output_type": "stream",
     "text": [
      "Using matplotlib backend: MacOSX\n"
     ]
    }
   ],
   "source": [
    "%matplotlib\n",
    "import matplotlib as mp\n",
    "import numpy as np\n",
    "import math"
   ]
  },
  {
   "cell_type": "markdown",
   "id": "6fe24e78",
   "metadata": {},
   "source": [
    "Now, lets create a few variables that we will initialize with some test values:"
   ]
  },
  {
   "cell_type": "markdown",
   "id": "0152d75a",
   "metadata": {},
   "source": [
    "V_0 = 10. # feet per second\n",
    "alpha = 30 # degrees"
   ]
  },
  {
   "cell_type": "markdown",
   "id": "ff9bb326",
   "metadata": {},
   "source": [
    "We can use our first two equations to find out how fast the model will move up and away. unfortunately, we need to convert the angle into what math majors call *radians*. There are $\\pi$ radians in 180 degrees. Python can do the conversions like so: "
   ]
  },
  {
   "cell_type": "code",
   "execution_count": 8,
   "id": "cd2f1150",
   "metadata": {},
   "outputs": [
    {
     "name": "stdout",
     "output_type": "stream",
     "text": [
      "V_h =  4.999999999999999  V_d =  8.660254037844387\n"
     ]
    }
   ],
   "source": [
    "V_d = V_0 * math.cos(math.pi/180.0 * alpha)\n",
    "V_h = V_0 * math.sin(math.pi/180.0 * alpha)\n",
    "\n",
    "print(\"V_h = \",V_h, \" V_d = \", V_d)"
   ]
  },
  {
   "cell_type": "code",
   "execution_count": null,
   "id": "fd336333",
   "metadata": {},
   "outputs": [],
   "source": []
  },
  {
   "cell_type": "code",
   "execution_count": null,
   "id": "b29d6df5",
   "metadata": {},
   "outputs": [],
   "source": []
  },
  {
   "cell_type": "markdown",
   "id": "14eb2dac",
   "metadata": {},
   "source": [
    "That first number, $V_h$ should really just be five, but computers are never precise when working with numbers that have a decimal point like what we see."
   ]
  },
  {
   "cell_type": "code",
   "execution_count": null,
   "id": "54df4f61",
   "metadata": {},
   "outputs": [],
   "source": []
  }
 ],
 "metadata": {
  "kernelspec": {
   "display_name": "Python 3 (ipykernel)",
   "language": "python",
   "name": "python3"
  },
  "language_info": {
   "codemirror_mode": {
    "name": "ipython",
    "version": 3
   },
   "file_extension": ".py",
   "mimetype": "text/x-python",
   "name": "python",
   "nbconvert_exporter": "python",
   "pygments_lexer": "ipython3",
   "version": "3.9.8"
  }
 },
 "nbformat": 4,
 "nbformat_minor": 5
}
