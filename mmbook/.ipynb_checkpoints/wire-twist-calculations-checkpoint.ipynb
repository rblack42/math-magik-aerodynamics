{
 "cells": [
  {
   "cell_type": "markdown",
   "id": "9fe0e4bd",
   "metadata": {},
   "source": [
    "# Calculating Wire Twist Under Torque\n",
    "\n",
    "For a cylinderical rod under torsion, the equation used to calculate the twist angle looks like this:\n",
    "\n",
    "$$\n",
    "\\alpha = \\frac{Q l}{J G}\n",
    "$$\n",
    "\n",
    "Where;\n",
    "\n",
    "   - $\\alpha$ is the twist angle in radians\n",
    "   - $Q$ is the torque (in lb)\n",
    "   - $J$ is the *polar moment of inertia*, \n",
    "   - $G$ is the shear (Young's) modulus\n",
    "   - $l$ is the length of the rod\n",
    "   - $r$ is the radius of the rod\n",
    "   \n",
    "The equation for $J$ for a rod with radius $r$ is given by:\n",
    "$$\n",
    "J = \\pi \\frac{r^4}{2}\n",
    "$$\n",
    "\n",
    "The shear modulus for music wire is about 11500000 $\\frac{lb}{in^2}$"
   ]
  },
  {
   "cell_type": "markdown",
   "id": "605a640b",
   "metadata": {},
   "source": [
    "Let's do some calculations and see what we get. We will use the Python **pint** library to check the units in our calculations:"
   ]
  },
  {
   "cell_type": "code",
   "execution_count": 1,
   "id": "08fb37f6",
   "metadata": {},
   "outputs": [],
   "source": [
    "import math\n",
    "from pint import UnitRegistry\n",
    "ureg = UnitRegistry()\n",
    "\n",
    "Q = 0.4 * (ureg.inch * ureg.oz)\n",
    "l = 12 * (ureg.inch)\n",
    "r = 0.0075 * (ureg.inch)  # 0.015 music wire\n",
    "J = math.pi * r**4 / 2\n",
    "G = 11500000 * (ureg.lb/ureg.inch**2) * 16 * (ureg.oz/ureg.lb)\n",
    "alpha = Q * l / ( J * G)"
   ]
  },
  {
   "cell_type": "markdown",
   "id": "5fd08176",
   "metadata": {},
   "source": [
    "The value of $\\alpha$ is in *radians*, so we need to convert those to degrees to get our answer:"
   ]
  },
  {
   "cell_type": "code",
   "execution_count": 2,
   "id": "5cd64db3",
   "metadata": {},
   "outputs": [
    {
     "name": "stdout",
     "output_type": "stream",
     "text": [
      "4.970097752749477e-09 inch ** 4 5.248781376041896 dimensionless 300.7330204340693 degree\n"
     ]
    }
   ],
   "source": [
    "alpha_deg = alpha.to(ureg.degrees)\n",
    "print(J, alpha, alpha_deg)"
   ]
  },
  {
   "cell_type": "markdown",
   "id": "e6c720cf",
   "metadata": {},
   "source": [
    "**pint** is pretty handy for making sure all your engineering data is in the right form to feed into your equations.\n",
    "\n",
    "Thhese numbers are about right for my indoor flying. A nice plan showing how to build one like this was produced by Cazar Banks can be found in the "
   ]
  },
  {
   "cell_type": "markdown",
   "id": "dc69c189",
   "metadata": {},
   "source": [
    "Let's plot the twist angle as a function of torque:"
   ]
  },
  {
   "cell_type": "code",
   "execution_count": 13,
   "id": "4178373b",
   "metadata": {},
   "outputs": [
    {
     "name": "stdout",
     "output_type": "stream",
     "text": [
      "0.0 inch * ounce 0.0 degree\n",
      "0.01 inch * ounce 7.518325510851732 degree\n",
      "0.02 inch * ounce 15.036651021703465 degree\n",
      "0.03 inch * ounce 22.554976532555195 degree\n",
      "0.04 inch * ounce 30.07330204340693 degree\n",
      "0.05 inch * ounce 37.591627554258665 degree\n",
      "0.060000000000000005 inch * ounce 45.10995306511039 degree\n",
      "0.07 inch * ounce 52.62827857596213 degree\n",
      "0.08 inch * ounce 60.14660408681386 degree\n",
      "0.09 inch * ounce 67.66492959766559 degree\n",
      "0.09999999999999999 inch * ounce 75.1832551085173 degree\n",
      "0.10999999999999999 inch * ounce 82.70158061936904 degree\n",
      "0.11999999999999998 inch * ounce 90.21990613022076 degree\n",
      "0.12999999999999998 inch * ounce 97.73823164107249 degree\n",
      "0.13999999999999999 inch * ounce 105.25655715192423 degree\n",
      "0.15 inch * ounce 112.77488266277597 degree\n",
      "0.16 inch * ounce 120.29320817362772 degree\n",
      "0.17 inch * ounce 127.81153368447943 degree\n",
      "0.18000000000000002 inch * ounce 135.32985919533118 degree\n",
      "0.19000000000000003 inch * ounce 142.84818470618293 degree\n",
      "0.20000000000000004 inch * ounce 150.36651021703466 degree\n",
      "0.21000000000000005 inch * ounce 157.88483572788638 degree\n",
      "0.22000000000000006 inch * ounce 165.40316123873814 degree\n",
      "0.23000000000000007 inch * ounce 172.9214867495899 degree\n",
      "0.24000000000000007 inch * ounce 180.43981226044158 degree\n",
      "0.25000000000000006 inch * ounce 187.95813777129334 degree\n",
      "0.26000000000000006 inch * ounce 195.4764632821451 degree\n",
      "0.2700000000000001 inch * ounce 202.99478879299684 degree\n",
      "0.2800000000000001 inch * ounce 210.51311430384854 degree\n",
      "0.2900000000000001 inch * ounce 218.0314398147003 degree\n",
      "0.3000000000000001 inch * ounce 225.54976532555204 degree\n",
      "0.3100000000000001 inch * ounce 233.06809083640377 degree\n",
      "0.3200000000000001 inch * ounce 240.58641634725552 degree\n",
      "0.3300000000000001 inch * ounce 248.10474185810727 degree\n",
      "0.34000000000000014 inch * ounce 255.62306736895897 degree\n",
      "0.35000000000000014 inch * ounce 263.1413928798107 degree\n",
      "0.36000000000000015 inch * ounce 270.6597183906625 degree\n",
      "0.37000000000000016 inch * ounce 278.1780439015142 degree\n",
      "0.38000000000000017 inch * ounce 285.6963694123659 degree\n",
      "0.3900000000000002 inch * ounce 293.2146949232177 degree\n",
      "0.4000000000000002 inch * ounce 300.73302043406943 degree\n",
      "0.4100000000000002 inch * ounce 308.2513459449212 degree\n",
      "0.4200000000000002 inch * ounce 315.7696714557729 degree\n",
      "0.4300000000000002 inch * ounce 323.28799696662463 degree\n",
      "0.4400000000000002 inch * ounce 330.8063224774764 degree\n",
      "0.45000000000000023 inch * ounce 338.3246479883281 degree\n",
      "0.46000000000000024 inch * ounce 345.84297349917983 degree\n",
      "0.47000000000000025 inch * ounce 353.3612990100316 degree\n",
      "0.48000000000000026 inch * ounce 360.87962452088334 degree\n",
      "0.49000000000000027 inch * ounce 368.3979500317351 degree\n"
     ]
    }
   ],
   "source": [
    "Q = 0.0 * (ureg.inch * ureg.oz)\n",
    "xval = []\n",
    "yval = []\n",
    "for i in range(50):\n",
    "    alpha_deg  = (Q * l / ( J * G)).to(ureg.degrees)\n",
    "    xval.append(Q.magnitude)\n",
    "    yval.append(alpha_deg.magnitude)\n",
    "    Q = Q + 0.01 * (ureg.inch * ureg.oz)"
   ]
  },
  {
   "cell_type": "markdown",
   "id": "246ffc6d",
   "metadata": {},
   "source": [
    "Now, we can plot this data to see the results:"
   ]
  },
  {
   "cell_type": "code",
   "execution_count": 16,
   "id": "0351661a",
   "metadata": {},
   "outputs": [
    {
     "data": {
      "image/png": "[encoded data removed]",
      "text/plain": [
       "<Figure size 432x288 with 1 Axes>"
      ]
     },
     "metadata": {
      "needs_background": "light"
     },
     "output_type": "display_data"
    }
   ],
   "source": [
    "import matplotlib.pyplot as plt\n",
    "%matplotlib inline\n",
    "plt.plot(xval, yval)\n",
    "plt.grid()\n",
    "plt.show()"
   ]
  },
  {
   "cell_type": "markdown",
   "id": "547bc7c7",
   "metadata": {},
   "source": [
    "It looks like this code works. We can use this to set up a meter for our experiments."
   ]
  },
  {
   "cell_type": "code",
   "execution_count": null,
   "id": "2753c837",
   "metadata": {},
   "outputs": [],
   "source": []
  }
 ],
 "metadata": {
  "kernelspec": {
   "display_name": "Python 3 (ipykernel)",
   "language": "python",
   "name": "python3"
  },
  "language_info": {
   "codemirror_mode": {
    "name": "ipython",
    "version": 3
   },
   "file_extension": ".py",
   "mimetype": "text/x-python",
   "name": "python",
   "nbconvert_exporter": "python",
   "pygments_lexer": "ipython3",
   "version": "3.9.6"
  }
 },
 "nbformat": 4,
 "nbformat_minor": 5
}
